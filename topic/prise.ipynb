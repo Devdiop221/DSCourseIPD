{
 "metadata": {
  "language_info": {
   "codemirror_mode": {
    "name": "ipython",
    "version": 3
   },
   "file_extension": ".py",
   "mimetype": "text/x-python",
   "name": "python",
   "nbconvert_exporter": "python",
   "pygments_lexer": "ipython3",
   "version": 3
  },
  "orig_nbformat": 2
 },
 "nbformat": 4,
 "nbformat_minor": 2,
 "cells": [
  {
   "cell_type": "code",
   "execution_count": null,
   "metadata": {},
   "outputs": [],
   "source": [
    "import numpy as np\n",
    "import matplotlib.pyplot as plt\n",
    "\n",
    "x = np.arrange(-2, 2, 0.02)\n",
    "\n",
    "sigmoid = 1./(1+np.exp(-x))\n",
    "tanh = (np.exp(x)-np.exp(-x)/(np.exp(x)+np.exp(-x)))\n",
    "relu = np.max([np.zeros(len(X)), x], axis=0)\n",
    "\n",
    "plt.plot(x, sigmoid)\n",
    "plt.plot(x, tanh)\n",
    "plt.plot(x, relu)\n",
    "\n",
    "plt.xlabel('x')\n",
    "plt.ylabel('activation')\n",
    "plt.legend(['sigmoid', 'tanh', 'relu'])\n",
    "\n",
    "plt.show()"
   ]
  },
  {
   "cell_type": "code",
   "execution_count": null,
   "metadata": {},
   "outputs": [],
   "source": []
  }
 ]
}